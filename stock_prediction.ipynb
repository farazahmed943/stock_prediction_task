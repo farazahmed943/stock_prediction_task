{
  "nbformat": 4,
  "nbformat_minor": 0,
  "metadata": {
    "colab": {
      "name": "stock_prediction.ipynb",
      "provenance": [],
      "authorship_tag": "ABX9TyNbAAkS0dgSB98mkS5EwYVb",
      "include_colab_link": true
    },
    "kernelspec": {
      "name": "python3",
      "display_name": "Python 3"
    },
    "language_info": {
      "name": "python"
    }
  },
  "cells": [
    {
      "cell_type": "markdown",
      "metadata": {
        "id": "view-in-github",
        "colab_type": "text"
      },
      "source": [
        "<a href=\"https://colab.research.google.com/github/farazahmed943/stock_prediction_task/blob/main/stock_prediction.ipynb\" target=\"_parent\"><img src=\"https://colab.research.google.com/assets/colab-badge.svg\" alt=\"Open In Colab\"/></a>"
      ]
    },
    {
      "cell_type": "markdown",
      "source": [
        "# Ojective : To predict future 5 days using last 60 days"
      ],
      "metadata": {
        "id": "v9KftYbLjdK_"
      }
    },
    {
      "cell_type": "code",
      "source": [
        "# Refrences taken from internet for LSTM implementation"
      ],
      "metadata": {
        "id": "bnzhH2x__l_C"
      },
      "execution_count": 72,
      "outputs": []
    },
    {
      "cell_type": "code",
      "source": [
        "!pip install statsmodels"
      ],
      "metadata": {
        "colab": {
          "base_uri": "https://localhost:8080/"
        },
        "id": "Aq0ccAsUzNsD",
        "outputId": "29efeada-2dc9-4ef5-b52d-b0e5ec63e046"
      },
      "execution_count": 69,
      "outputs": [
        {
          "output_type": "stream",
          "name": "stdout",
          "text": [
            "Looking in indexes: https://pypi.org/simple, https://us-python.pkg.dev/colab-wheels/public/simple/\n",
            "\u001b[31mERROR: Could not find a version that satisfies the requirement statsmodel (from versions: none)\u001b[0m\n",
            "\u001b[31mERROR: No matching distribution found for statsmodel\u001b[0m\n"
          ]
        }
      ]
    },
    {
      "cell_type": "code",
      "source": [
        "# import libraries\n",
        "import pandas as pd\n",
        "import numpy as np\n",
        "import matplotlib.pyplot as plt\n",
        "from statsmodels.tsa.seasonal import seasonal_decompose"
      ],
      "metadata": {
        "colab": {
          "base_uri": "https://localhost:8080/"
        },
        "id": "8bkg0Q5Yj0kG",
        "outputId": "4456d362-58d2-403a-e36a-bb4008586122"
      },
      "execution_count": 1,
      "outputs": [
        {
          "output_type": "stream",
          "name": "stderr",
          "text": [
            "/usr/local/lib/python3.7/dist-packages/statsmodels/tools/_testing.py:19: FutureWarning: pandas.util.testing is deprecated. Use the functions in the public API at pandas.testing instead.\n",
            "  import pandas.util.testing as tm\n"
          ]
        }
      ]
    },
    {
      "cell_type": "code",
      "source": [
        "# Using google stock data from https://raw.githubusercontent.com/PacktPublishing/Learning-Pandas-Second-Edition/master/data/goog.csv"
      ],
      "metadata": {
        "id": "6t8oSccijqKX"
      },
      "execution_count": 2,
      "outputs": []
    },
    {
      "cell_type": "code",
      "execution_count": 3,
      "metadata": {
        "colab": {
          "base_uri": "https://localhost:8080/",
          "height": 206
        },
        "id": "_X1eHIh1jUm0",
        "outputId": "6071dd5d-3c05-45e8-d834-4c7edc3538c1"
      },
      "outputs": [
        {
          "output_type": "execute_result",
          "data": {
            "text/plain": [
              "         Date         Open        High          Low        Close    Adj Close  \\\n",
              "0  2021-06-09  2499.500000  2505.00000  2487.330078  2491.399902  2491.399902   \n",
              "1  2021-06-10  2494.010010  2523.26001  2494.000000  2521.600098  2521.600098   \n",
              "2  2021-06-11  2524.919922  2526.98999  2498.290039  2513.929932  2513.929932   \n",
              "3  2021-06-14  2513.389893  2528.22998  2500.939941  2527.040039  2527.040039   \n",
              "4  2021-06-15  2530.439941  2537.23999  2512.969971  2520.659912  2520.659912   \n",
              "\n",
              "    Volume  \n",
              "0  1006300  \n",
              "1  1561700  \n",
              "2  1262000  \n",
              "3  1127500  \n",
              "4  1109100  "
            ],
            "text/html": [
              "\n",
              "  <div id=\"df-cfb4c51b-8e6e-4e9a-9ed5-c791dc9024dd\">\n",
              "    <div class=\"colab-df-container\">\n",
              "      <div>\n",
              "<style scoped>\n",
              "    .dataframe tbody tr th:only-of-type {\n",
              "        vertical-align: middle;\n",
              "    }\n",
              "\n",
              "    .dataframe tbody tr th {\n",
              "        vertical-align: top;\n",
              "    }\n",
              "\n",
              "    .dataframe thead th {\n",
              "        text-align: right;\n",
              "    }\n",
              "</style>\n",
              "<table border=\"1\" class=\"dataframe\">\n",
              "  <thead>\n",
              "    <tr style=\"text-align: right;\">\n",
              "      <th></th>\n",
              "      <th>Date</th>\n",
              "      <th>Open</th>\n",
              "      <th>High</th>\n",
              "      <th>Low</th>\n",
              "      <th>Close</th>\n",
              "      <th>Adj Close</th>\n",
              "      <th>Volume</th>\n",
              "    </tr>\n",
              "  </thead>\n",
              "  <tbody>\n",
              "    <tr>\n",
              "      <th>0</th>\n",
              "      <td>2021-06-09</td>\n",
              "      <td>2499.500000</td>\n",
              "      <td>2505.00000</td>\n",
              "      <td>2487.330078</td>\n",
              "      <td>2491.399902</td>\n",
              "      <td>2491.399902</td>\n",
              "      <td>1006300</td>\n",
              "    </tr>\n",
              "    <tr>\n",
              "      <th>1</th>\n",
              "      <td>2021-06-10</td>\n",
              "      <td>2494.010010</td>\n",
              "      <td>2523.26001</td>\n",
              "      <td>2494.000000</td>\n",
              "      <td>2521.600098</td>\n",
              "      <td>2521.600098</td>\n",
              "      <td>1561700</td>\n",
              "    </tr>\n",
              "    <tr>\n",
              "      <th>2</th>\n",
              "      <td>2021-06-11</td>\n",
              "      <td>2524.919922</td>\n",
              "      <td>2526.98999</td>\n",
              "      <td>2498.290039</td>\n",
              "      <td>2513.929932</td>\n",
              "      <td>2513.929932</td>\n",
              "      <td>1262000</td>\n",
              "    </tr>\n",
              "    <tr>\n",
              "      <th>3</th>\n",
              "      <td>2021-06-14</td>\n",
              "      <td>2513.389893</td>\n",
              "      <td>2528.22998</td>\n",
              "      <td>2500.939941</td>\n",
              "      <td>2527.040039</td>\n",
              "      <td>2527.040039</td>\n",
              "      <td>1127500</td>\n",
              "    </tr>\n",
              "    <tr>\n",
              "      <th>4</th>\n",
              "      <td>2021-06-15</td>\n",
              "      <td>2530.439941</td>\n",
              "      <td>2537.23999</td>\n",
              "      <td>2512.969971</td>\n",
              "      <td>2520.659912</td>\n",
              "      <td>2520.659912</td>\n",
              "      <td>1109100</td>\n",
              "    </tr>\n",
              "  </tbody>\n",
              "</table>\n",
              "</div>\n",
              "      <button class=\"colab-df-convert\" onclick=\"convertToInteractive('df-cfb4c51b-8e6e-4e9a-9ed5-c791dc9024dd')\"\n",
              "              title=\"Convert this dataframe to an interactive table.\"\n",
              "              style=\"display:none;\">\n",
              "        \n",
              "  <svg xmlns=\"http://www.w3.org/2000/svg\" height=\"24px\"viewBox=\"0 0 24 24\"\n",
              "       width=\"24px\">\n",
              "    <path d=\"M0 0h24v24H0V0z\" fill=\"none\"/>\n",
              "    <path d=\"M18.56 5.44l.94 2.06.94-2.06 2.06-.94-2.06-.94-.94-2.06-.94 2.06-2.06.94zm-11 1L8.5 8.5l.94-2.06 2.06-.94-2.06-.94L8.5 2.5l-.94 2.06-2.06.94zm10 10l.94 2.06.94-2.06 2.06-.94-2.06-.94-.94-2.06-.94 2.06-2.06.94z\"/><path d=\"M17.41 7.96l-1.37-1.37c-.4-.4-.92-.59-1.43-.59-.52 0-1.04.2-1.43.59L10.3 9.45l-7.72 7.72c-.78.78-.78 2.05 0 2.83L4 21.41c.39.39.9.59 1.41.59.51 0 1.02-.2 1.41-.59l7.78-7.78 2.81-2.81c.8-.78.8-2.07 0-2.86zM5.41 20L4 18.59l7.72-7.72 1.47 1.35L5.41 20z\"/>\n",
              "  </svg>\n",
              "      </button>\n",
              "      \n",
              "  <style>\n",
              "    .colab-df-container {\n",
              "      display:flex;\n",
              "      flex-wrap:wrap;\n",
              "      gap: 12px;\n",
              "    }\n",
              "\n",
              "    .colab-df-convert {\n",
              "      background-color: #E8F0FE;\n",
              "      border: none;\n",
              "      border-radius: 50%;\n",
              "      cursor: pointer;\n",
              "      display: none;\n",
              "      fill: #1967D2;\n",
              "      height: 32px;\n",
              "      padding: 0 0 0 0;\n",
              "      width: 32px;\n",
              "    }\n",
              "\n",
              "    .colab-df-convert:hover {\n",
              "      background-color: #E2EBFA;\n",
              "      box-shadow: 0px 1px 2px rgba(60, 64, 67, 0.3), 0px 1px 3px 1px rgba(60, 64, 67, 0.15);\n",
              "      fill: #174EA6;\n",
              "    }\n",
              "\n",
              "    [theme=dark] .colab-df-convert {\n",
              "      background-color: #3B4455;\n",
              "      fill: #D2E3FC;\n",
              "    }\n",
              "\n",
              "    [theme=dark] .colab-df-convert:hover {\n",
              "      background-color: #434B5C;\n",
              "      box-shadow: 0px 1px 3px 1px rgba(0, 0, 0, 0.15);\n",
              "      filter: drop-shadow(0px 1px 2px rgba(0, 0, 0, 0.3));\n",
              "      fill: #FFFFFF;\n",
              "    }\n",
              "  </style>\n",
              "\n",
              "      <script>\n",
              "        const buttonEl =\n",
              "          document.querySelector('#df-cfb4c51b-8e6e-4e9a-9ed5-c791dc9024dd button.colab-df-convert');\n",
              "        buttonEl.style.display =\n",
              "          google.colab.kernel.accessAllowed ? 'block' : 'none';\n",
              "\n",
              "        async function convertToInteractive(key) {\n",
              "          const element = document.querySelector('#df-cfb4c51b-8e6e-4e9a-9ed5-c791dc9024dd');\n",
              "          const dataTable =\n",
              "            await google.colab.kernel.invokeFunction('convertToInteractive',\n",
              "                                                     [key], {});\n",
              "          if (!dataTable) return;\n",
              "\n",
              "          const docLinkHtml = 'Like what you see? Visit the ' +\n",
              "            '<a target=\"_blank\" href=https://colab.research.google.com/notebooks/data_table.ipynb>data table notebook</a>'\n",
              "            + ' to learn more about interactive tables.';\n",
              "          element.innerHTML = '';\n",
              "          dataTable['output_type'] = 'display_data';\n",
              "          await google.colab.output.renderOutput(dataTable, element);\n",
              "          const docLink = document.createElement('div');\n",
              "          docLink.innerHTML = docLinkHtml;\n",
              "          element.appendChild(docLink);\n",
              "        }\n",
              "      </script>\n",
              "    </div>\n",
              "  </div>\n",
              "  "
            ]
          },
          "metadata": {},
          "execution_count": 3
        }
      ],
      "source": [
        "gstock_data = pd.read_csv('/content/GOOG (1).csv')\n",
        "gstock_data .head()"
      ]
    },
    {
      "cell_type": "code",
      "source": [
        "# Date - trading day\n",
        "# Open - opening value of the stock on that particular date\n",
        "# High - the highest value the stock touched on particular trading date\n",
        "# Low - lowest price value of stock touched on particular trading date\n",
        "# Close - closing value of stock at the end of trading day\n",
        "# Adj close - accounts for any ammends to stock closing price taking in account for any corporate actions\n",
        "# volume - number of shares traded on a particular day"
      ],
      "metadata": {
        "id": "CQJmg8Gojwo4"
      },
      "execution_count": 4,
      "outputs": []
    },
    {
      "cell_type": "markdown",
      "source": [
        "# EDA"
      ],
      "metadata": {
        "id": "2nInVUwBlMJQ"
      }
    },
    {
      "cell_type": "code",
      "source": [
        "# Missing Value\n",
        "gstock_data.isna().sum()"
      ],
      "metadata": {
        "colab": {
          "base_uri": "https://localhost:8080/"
        },
        "id": "7KX5RIhmlQFu",
        "outputId": "cedddb8a-e36b-4545-da88-52d2e33b8139"
      },
      "execution_count": 5,
      "outputs": [
        {
          "output_type": "execute_result",
          "data": {
            "text/plain": [
              "Date         0\n",
              "Open         0\n",
              "High         0\n",
              "Low          0\n",
              "Close        0\n",
              "Adj Close    0\n",
              "Volume       0\n",
              "dtype: int64"
            ]
          },
          "metadata": {},
          "execution_count": 5
        }
      ]
    },
    {
      "cell_type": "code",
      "source": [
        "gstock_data.columns"
      ],
      "metadata": {
        "colab": {
          "base_uri": "https://localhost:8080/"
        },
        "id": "dmrg99cZlWPi",
        "outputId": "47e514a9-f376-4809-c0d5-7b0ea9886754"
      },
      "execution_count": 6,
      "outputs": [
        {
          "output_type": "execute_result",
          "data": {
            "text/plain": [
              "Index(['Date', 'Open', 'High', 'Low', 'Close', 'Adj Close', 'Volume'], dtype='object')"
            ]
          },
          "metadata": {},
          "execution_count": 6
        }
      ]
    },
    {
      "cell_type": "code",
      "source": [
        "# Univariate time series analysis using LSTM\n",
        "# For this we will be using open and date\n",
        "time_df = gstock_data[['Date','Open']]"
      ],
      "metadata": {
        "id": "NmiTV4aylj8z"
      },
      "execution_count": 66,
      "outputs": []
    },
    {
      "cell_type": "code",
      "source": [
        "time_df"
      ],
      "metadata": {
        "colab": {
          "base_uri": "https://localhost:8080/",
          "height": 424
        },
        "id": "vb6mydcmmejW",
        "outputId": "a1f65061-be12-41e9-836e-0904d8c7bfcf"
      },
      "execution_count": 67,
      "outputs": [
        {
          "output_type": "execute_result",
          "data": {
            "text/plain": [
              "           Date         Open\n",
              "0    2021-06-09  2499.500000\n",
              "1    2021-06-10  2494.010010\n",
              "2    2021-06-11  2524.919922\n",
              "3    2021-06-14  2513.389893\n",
              "4    2021-06-15  2530.439941\n",
              "..          ...          ...\n",
              "248  2022-06-02  2283.760010\n",
              "249  2022-06-03  2319.850098\n",
              "250  2022-06-06  2334.850098\n",
              "251  2022-06-07  2312.959961\n",
              "252  2022-06-08  2337.530029\n",
              "\n",
              "[253 rows x 2 columns]"
            ],
            "text/html": [
              "\n",
              "  <div id=\"df-1f5bda1c-5844-4c35-aa18-607d22d73f31\">\n",
              "    <div class=\"colab-df-container\">\n",
              "      <div>\n",
              "<style scoped>\n",
              "    .dataframe tbody tr th:only-of-type {\n",
              "        vertical-align: middle;\n",
              "    }\n",
              "\n",
              "    .dataframe tbody tr th {\n",
              "        vertical-align: top;\n",
              "    }\n",
              "\n",
              "    .dataframe thead th {\n",
              "        text-align: right;\n",
              "    }\n",
              "</style>\n",
              "<table border=\"1\" class=\"dataframe\">\n",
              "  <thead>\n",
              "    <tr style=\"text-align: right;\">\n",
              "      <th></th>\n",
              "      <th>Date</th>\n",
              "      <th>Open</th>\n",
              "    </tr>\n",
              "  </thead>\n",
              "  <tbody>\n",
              "    <tr>\n",
              "      <th>0</th>\n",
              "      <td>2021-06-09</td>\n",
              "      <td>2499.500000</td>\n",
              "    </tr>\n",
              "    <tr>\n",
              "      <th>1</th>\n",
              "      <td>2021-06-10</td>\n",
              "      <td>2494.010010</td>\n",
              "    </tr>\n",
              "    <tr>\n",
              "      <th>2</th>\n",
              "      <td>2021-06-11</td>\n",
              "      <td>2524.919922</td>\n",
              "    </tr>\n",
              "    <tr>\n",
              "      <th>3</th>\n",
              "      <td>2021-06-14</td>\n",
              "      <td>2513.389893</td>\n",
              "    </tr>\n",
              "    <tr>\n",
              "      <th>4</th>\n",
              "      <td>2021-06-15</td>\n",
              "      <td>2530.439941</td>\n",
              "    </tr>\n",
              "    <tr>\n",
              "      <th>...</th>\n",
              "      <td>...</td>\n",
              "      <td>...</td>\n",
              "    </tr>\n",
              "    <tr>\n",
              "      <th>248</th>\n",
              "      <td>2022-06-02</td>\n",
              "      <td>2283.760010</td>\n",
              "    </tr>\n",
              "    <tr>\n",
              "      <th>249</th>\n",
              "      <td>2022-06-03</td>\n",
              "      <td>2319.850098</td>\n",
              "    </tr>\n",
              "    <tr>\n",
              "      <th>250</th>\n",
              "      <td>2022-06-06</td>\n",
              "      <td>2334.850098</td>\n",
              "    </tr>\n",
              "    <tr>\n",
              "      <th>251</th>\n",
              "      <td>2022-06-07</td>\n",
              "      <td>2312.959961</td>\n",
              "    </tr>\n",
              "    <tr>\n",
              "      <th>252</th>\n",
              "      <td>2022-06-08</td>\n",
              "      <td>2337.530029</td>\n",
              "    </tr>\n",
              "  </tbody>\n",
              "</table>\n",
              "<p>253 rows × 2 columns</p>\n",
              "</div>\n",
              "      <button class=\"colab-df-convert\" onclick=\"convertToInteractive('df-1f5bda1c-5844-4c35-aa18-607d22d73f31')\"\n",
              "              title=\"Convert this dataframe to an interactive table.\"\n",
              "              style=\"display:none;\">\n",
              "        \n",
              "  <svg xmlns=\"http://www.w3.org/2000/svg\" height=\"24px\"viewBox=\"0 0 24 24\"\n",
              "       width=\"24px\">\n",
              "    <path d=\"M0 0h24v24H0V0z\" fill=\"none\"/>\n",
              "    <path d=\"M18.56 5.44l.94 2.06.94-2.06 2.06-.94-2.06-.94-.94-2.06-.94 2.06-2.06.94zm-11 1L8.5 8.5l.94-2.06 2.06-.94-2.06-.94L8.5 2.5l-.94 2.06-2.06.94zm10 10l.94 2.06.94-2.06 2.06-.94-2.06-.94-.94-2.06-.94 2.06-2.06.94z\"/><path d=\"M17.41 7.96l-1.37-1.37c-.4-.4-.92-.59-1.43-.59-.52 0-1.04.2-1.43.59L10.3 9.45l-7.72 7.72c-.78.78-.78 2.05 0 2.83L4 21.41c.39.39.9.59 1.41.59.51 0 1.02-.2 1.41-.59l7.78-7.78 2.81-2.81c.8-.78.8-2.07 0-2.86zM5.41 20L4 18.59l7.72-7.72 1.47 1.35L5.41 20z\"/>\n",
              "  </svg>\n",
              "      </button>\n",
              "      \n",
              "  <style>\n",
              "    .colab-df-container {\n",
              "      display:flex;\n",
              "      flex-wrap:wrap;\n",
              "      gap: 12px;\n",
              "    }\n",
              "\n",
              "    .colab-df-convert {\n",
              "      background-color: #E8F0FE;\n",
              "      border: none;\n",
              "      border-radius: 50%;\n",
              "      cursor: pointer;\n",
              "      display: none;\n",
              "      fill: #1967D2;\n",
              "      height: 32px;\n",
              "      padding: 0 0 0 0;\n",
              "      width: 32px;\n",
              "    }\n",
              "\n",
              "    .colab-df-convert:hover {\n",
              "      background-color: #E2EBFA;\n",
              "      box-shadow: 0px 1px 2px rgba(60, 64, 67, 0.3), 0px 1px 3px 1px rgba(60, 64, 67, 0.15);\n",
              "      fill: #174EA6;\n",
              "    }\n",
              "\n",
              "    [theme=dark] .colab-df-convert {\n",
              "      background-color: #3B4455;\n",
              "      fill: #D2E3FC;\n",
              "    }\n",
              "\n",
              "    [theme=dark] .colab-df-convert:hover {\n",
              "      background-color: #434B5C;\n",
              "      box-shadow: 0px 1px 3px 1px rgba(0, 0, 0, 0.15);\n",
              "      filter: drop-shadow(0px 1px 2px rgba(0, 0, 0, 0.3));\n",
              "      fill: #FFFFFF;\n",
              "    }\n",
              "  </style>\n",
              "\n",
              "      <script>\n",
              "        const buttonEl =\n",
              "          document.querySelector('#df-1f5bda1c-5844-4c35-aa18-607d22d73f31 button.colab-df-convert');\n",
              "        buttonEl.style.display =\n",
              "          google.colab.kernel.accessAllowed ? 'block' : 'none';\n",
              "\n",
              "        async function convertToInteractive(key) {\n",
              "          const element = document.querySelector('#df-1f5bda1c-5844-4c35-aa18-607d22d73f31');\n",
              "          const dataTable =\n",
              "            await google.colab.kernel.invokeFunction('convertToInteractive',\n",
              "                                                     [key], {});\n",
              "          if (!dataTable) return;\n",
              "\n",
              "          const docLinkHtml = 'Like what you see? Visit the ' +\n",
              "            '<a target=\"_blank\" href=https://colab.research.google.com/notebooks/data_table.ipynb>data table notebook</a>'\n",
              "            + ' to learn more about interactive tables.';\n",
              "          element.innerHTML = '';\n",
              "          dataTable['output_type'] = 'display_data';\n",
              "          await google.colab.output.renderOutput(dataTable, element);\n",
              "          const docLink = document.createElement('div');\n",
              "          docLink.innerHTML = docLinkHtml;\n",
              "          element.appendChild(docLink);\n",
              "        }\n",
              "      </script>\n",
              "    </div>\n",
              "  </div>\n",
              "  "
            ]
          },
          "metadata": {},
          "execution_count": 67
        }
      ]
    },
    {
      "cell_type": "markdown",
      "source": [
        "# Let's visualize the time series"
      ],
      "metadata": {
        "id": "8YNqAZhqmiaG"
      }
    },
    {
      "cell_type": "code",
      "source": [
        "time_df = time_df.set_index('Date')"
      ],
      "metadata": {
        "id": "uQMSia3Js1aA"
      },
      "execution_count": 68,
      "outputs": []
    },
    {
      "cell_type": "code",
      "source": [
        "time_df"
      ],
      "metadata": {
        "colab": {
          "base_uri": "https://localhost:8080/",
          "height": 455
        },
        "id": "lA-_ZnNot2GD",
        "outputId": "d8c03d78-6973-45c4-bf18-7b09c7268bb0"
      },
      "execution_count": 16,
      "outputs": [
        {
          "output_type": "execute_result",
          "data": {
            "text/plain": [
              "                   Open\n",
              "Date                   \n",
              "2021-06-09  2499.500000\n",
              "2021-06-10  2494.010010\n",
              "2021-06-11  2524.919922\n",
              "2021-06-14  2513.389893\n",
              "2021-06-15  2530.439941\n",
              "...                 ...\n",
              "2022-06-02  2283.760010\n",
              "2022-06-03  2319.850098\n",
              "2022-06-06  2334.850098\n",
              "2022-06-07  2312.959961\n",
              "2022-06-08  2337.530029\n",
              "\n",
              "[253 rows x 1 columns]"
            ],
            "text/html": [
              "\n",
              "  <div id=\"df-d849de99-a000-4d31-b4af-fc0b4c9c64f8\">\n",
              "    <div class=\"colab-df-container\">\n",
              "      <div>\n",
              "<style scoped>\n",
              "    .dataframe tbody tr th:only-of-type {\n",
              "        vertical-align: middle;\n",
              "    }\n",
              "\n",
              "    .dataframe tbody tr th {\n",
              "        vertical-align: top;\n",
              "    }\n",
              "\n",
              "    .dataframe thead th {\n",
              "        text-align: right;\n",
              "    }\n",
              "</style>\n",
              "<table border=\"1\" class=\"dataframe\">\n",
              "  <thead>\n",
              "    <tr style=\"text-align: right;\">\n",
              "      <th></th>\n",
              "      <th>Open</th>\n",
              "    </tr>\n",
              "    <tr>\n",
              "      <th>Date</th>\n",
              "      <th></th>\n",
              "    </tr>\n",
              "  </thead>\n",
              "  <tbody>\n",
              "    <tr>\n",
              "      <th>2021-06-09</th>\n",
              "      <td>2499.500000</td>\n",
              "    </tr>\n",
              "    <tr>\n",
              "      <th>2021-06-10</th>\n",
              "      <td>2494.010010</td>\n",
              "    </tr>\n",
              "    <tr>\n",
              "      <th>2021-06-11</th>\n",
              "      <td>2524.919922</td>\n",
              "    </tr>\n",
              "    <tr>\n",
              "      <th>2021-06-14</th>\n",
              "      <td>2513.389893</td>\n",
              "    </tr>\n",
              "    <tr>\n",
              "      <th>2021-06-15</th>\n",
              "      <td>2530.439941</td>\n",
              "    </tr>\n",
              "    <tr>\n",
              "      <th>...</th>\n",
              "      <td>...</td>\n",
              "    </tr>\n",
              "    <tr>\n",
              "      <th>2022-06-02</th>\n",
              "      <td>2283.760010</td>\n",
              "    </tr>\n",
              "    <tr>\n",
              "      <th>2022-06-03</th>\n",
              "      <td>2319.850098</td>\n",
              "    </tr>\n",
              "    <tr>\n",
              "      <th>2022-06-06</th>\n",
              "      <td>2334.850098</td>\n",
              "    </tr>\n",
              "    <tr>\n",
              "      <th>2022-06-07</th>\n",
              "      <td>2312.959961</td>\n",
              "    </tr>\n",
              "    <tr>\n",
              "      <th>2022-06-08</th>\n",
              "      <td>2337.530029</td>\n",
              "    </tr>\n",
              "  </tbody>\n",
              "</table>\n",
              "<p>253 rows × 1 columns</p>\n",
              "</div>\n",
              "      <button class=\"colab-df-convert\" onclick=\"convertToInteractive('df-d849de99-a000-4d31-b4af-fc0b4c9c64f8')\"\n",
              "              title=\"Convert this dataframe to an interactive table.\"\n",
              "              style=\"display:none;\">\n",
              "        \n",
              "  <svg xmlns=\"http://www.w3.org/2000/svg\" height=\"24px\"viewBox=\"0 0 24 24\"\n",
              "       width=\"24px\">\n",
              "    <path d=\"M0 0h24v24H0V0z\" fill=\"none\"/>\n",
              "    <path d=\"M18.56 5.44l.94 2.06.94-2.06 2.06-.94-2.06-.94-.94-2.06-.94 2.06-2.06.94zm-11 1L8.5 8.5l.94-2.06 2.06-.94-2.06-.94L8.5 2.5l-.94 2.06-2.06.94zm10 10l.94 2.06.94-2.06 2.06-.94-2.06-.94-.94-2.06-.94 2.06-2.06.94z\"/><path d=\"M17.41 7.96l-1.37-1.37c-.4-.4-.92-.59-1.43-.59-.52 0-1.04.2-1.43.59L10.3 9.45l-7.72 7.72c-.78.78-.78 2.05 0 2.83L4 21.41c.39.39.9.59 1.41.59.51 0 1.02-.2 1.41-.59l7.78-7.78 2.81-2.81c.8-.78.8-2.07 0-2.86zM5.41 20L4 18.59l7.72-7.72 1.47 1.35L5.41 20z\"/>\n",
              "  </svg>\n",
              "      </button>\n",
              "      \n",
              "  <style>\n",
              "    .colab-df-container {\n",
              "      display:flex;\n",
              "      flex-wrap:wrap;\n",
              "      gap: 12px;\n",
              "    }\n",
              "\n",
              "    .colab-df-convert {\n",
              "      background-color: #E8F0FE;\n",
              "      border: none;\n",
              "      border-radius: 50%;\n",
              "      cursor: pointer;\n",
              "      display: none;\n",
              "      fill: #1967D2;\n",
              "      height: 32px;\n",
              "      padding: 0 0 0 0;\n",
              "      width: 32px;\n",
              "    }\n",
              "\n",
              "    .colab-df-convert:hover {\n",
              "      background-color: #E2EBFA;\n",
              "      box-shadow: 0px 1px 2px rgba(60, 64, 67, 0.3), 0px 1px 3px 1px rgba(60, 64, 67, 0.15);\n",
              "      fill: #174EA6;\n",
              "    }\n",
              "\n",
              "    [theme=dark] .colab-df-convert {\n",
              "      background-color: #3B4455;\n",
              "      fill: #D2E3FC;\n",
              "    }\n",
              "\n",
              "    [theme=dark] .colab-df-convert:hover {\n",
              "      background-color: #434B5C;\n",
              "      box-shadow: 0px 1px 3px 1px rgba(0, 0, 0, 0.15);\n",
              "      filter: drop-shadow(0px 1px 2px rgba(0, 0, 0, 0.3));\n",
              "      fill: #FFFFFF;\n",
              "    }\n",
              "  </style>\n",
              "\n",
              "      <script>\n",
              "        const buttonEl =\n",
              "          document.querySelector('#df-d849de99-a000-4d31-b4af-fc0b4c9c64f8 button.colab-df-convert');\n",
              "        buttonEl.style.display =\n",
              "          google.colab.kernel.accessAllowed ? 'block' : 'none';\n",
              "\n",
              "        async function convertToInteractive(key) {\n",
              "          const element = document.querySelector('#df-d849de99-a000-4d31-b4af-fc0b4c9c64f8');\n",
              "          const dataTable =\n",
              "            await google.colab.kernel.invokeFunction('convertToInteractive',\n",
              "                                                     [key], {});\n",
              "          if (!dataTable) return;\n",
              "\n",
              "          const docLinkHtml = 'Like what you see? Visit the ' +\n",
              "            '<a target=\"_blank\" href=https://colab.research.google.com/notebooks/data_table.ipynb>data table notebook</a>'\n",
              "            + ' to learn more about interactive tables.';\n",
              "          element.innerHTML = '';\n",
              "          dataTable['output_type'] = 'display_data';\n",
              "          await google.colab.output.renderOutput(dataTable, element);\n",
              "          const docLink = document.createElement('div');\n",
              "          docLink.innerHTML = docLinkHtml;\n",
              "          element.appendChild(docLink);\n",
              "        }\n",
              "      </script>\n",
              "    </div>\n",
              "  </div>\n",
              "  "
            ]
          },
          "metadata": {},
          "execution_count": 16
        }
      ]
    },
    {
      "cell_type": "code",
      "source": [
        "# Plot\n",
        "\n",
        "plt.plot(time_df[\"Open\"], marker='o')\n",
        "\n",
        "# Labelling \n",
        "\n",
        "plt.xlabel(\"Date\")\n",
        "plt.ylabel(\"Price\")\n",
        "plt.title(\"Google Stock Price\")\n",
        "# Display\n",
        "\n",
        "plt.show()"
      ],
      "metadata": {
        "colab": {
          "base_uri": "https://localhost:8080/",
          "height": 295
        },
        "id": "GAx4HkmTtIBP",
        "outputId": "9d0ed78b-47e1-4a70-9340-a3fa3b66503c"
      },
      "execution_count": 18,
      "outputs": [
        {
          "output_type": "display_data",
          "data": {
            "text/plain": [
              "<Figure size 432x288 with 1 Axes>"
            ],
            "image/png": "[encoded data removed]"
          },
          "metadata": {
            "needs_background": "light"
          }
        }
      ]
    },
    {
      "cell_type": "code",
      "source": [
        ""
      ],
      "metadata": {
        "id": "G_SPGR4Gztu7"
      },
      "execution_count": 18,
      "outputs": []
    },
    {
      "cell_type": "code",
      "source": [
        "# Lets try and see the decomposition of time series\n",
        "results = seasonal_decompose(time_df['Open'])\n",
        "results.plot();"
      ],
      "metadata": {
        "colab": {
          "base_uri": "https://localhost:8080/",
          "height": 345
        },
        "id": "CyEvsSS2zs4p",
        "outputId": "46991e98-2376-4341-91e1-537f1d42689b"
      },
      "execution_count": 19,
      "outputs": [
        {
          "output_type": "error",
          "ename": "AttributeError",
          "evalue": "ignored",
          "traceback": [
            "\u001b[0;31m---------------------------------------------------------------------------\u001b[0m",
            "\u001b[0;31mAttributeError\u001b[0m                            Traceback (most recent call last)",
            "\u001b[0;32m<ipython-input-19-e8cdf24456a9>\u001b[0m in \u001b[0;36m<module>\u001b[0;34m()\u001b[0m\n\u001b[1;32m      1\u001b[0m \u001b[0;31m# Lets try and see the decomposition of time series\u001b[0m\u001b[0;34m\u001b[0m\u001b[0;34m\u001b[0m\u001b[0;34m\u001b[0m\u001b[0m\n\u001b[0;32m----> 2\u001b[0;31m \u001b[0mresults\u001b[0m \u001b[0;34m=\u001b[0m \u001b[0mseasonal_decompose\u001b[0m\u001b[0;34m(\u001b[0m\u001b[0mtime_df\u001b[0m\u001b[0;34m[\u001b[0m\u001b[0;34m'Open'\u001b[0m\u001b[0;34m]\u001b[0m\u001b[0;34m)\u001b[0m\u001b[0;34m\u001b[0m\u001b[0;34m\u001b[0m\u001b[0m\n\u001b[0m\u001b[1;32m      3\u001b[0m \u001b[0mresults\u001b[0m\u001b[0;34m.\u001b[0m\u001b[0mplot\u001b[0m\u001b[0;34m(\u001b[0m\u001b[0;34m)\u001b[0m\u001b[0;34m;\u001b[0m\u001b[0;34m\u001b[0m\u001b[0;34m\u001b[0m\u001b[0m\n",
            "\u001b[0;32m/usr/local/lib/python3.7/dist-packages/statsmodels/tsa/seasonal.py\u001b[0m in \u001b[0;36mseasonal_decompose\u001b[0;34m(x, model, filt, freq, two_sided, extrapolate_trend)\u001b[0m\n\u001b[1;32m    106\u001b[0m     \"\"\"\n\u001b[1;32m    107\u001b[0m     \u001b[0;32mif\u001b[0m \u001b[0mfreq\u001b[0m \u001b[0;32mis\u001b[0m \u001b[0;32mNone\u001b[0m\u001b[0;34m:\u001b[0m\u001b[0;34m\u001b[0m\u001b[0;34m\u001b[0m\u001b[0m\n\u001b[0;32m--> 108\u001b[0;31m         \u001b[0m_pandas_wrapper\u001b[0m\u001b[0;34m,\u001b[0m \u001b[0mpfreq\u001b[0m \u001b[0;34m=\u001b[0m \u001b[0m_maybe_get_pandas_wrapper_freq\u001b[0m\u001b[0;34m(\u001b[0m\u001b[0mx\u001b[0m\u001b[0;34m)\u001b[0m\u001b[0;34m\u001b[0m\u001b[0;34m\u001b[0m\u001b[0m\n\u001b[0m\u001b[1;32m    109\u001b[0m     \u001b[0;32melse\u001b[0m\u001b[0;34m:\u001b[0m\u001b[0;34m\u001b[0m\u001b[0;34m\u001b[0m\u001b[0m\n\u001b[1;32m    110\u001b[0m         \u001b[0m_pandas_wrapper\u001b[0m \u001b[0;34m=\u001b[0m \u001b[0m_maybe_get_pandas_wrapper\u001b[0m\u001b[0;34m(\u001b[0m\u001b[0mx\u001b[0m\u001b[0;34m)\u001b[0m\u001b[0;34m\u001b[0m\u001b[0;34m\u001b[0m\u001b[0m\n",
            "\u001b[0;32m/usr/local/lib/python3.7/dist-packages/statsmodels/tsa/filters/_utils.py\u001b[0m in \u001b[0;36m_maybe_get_pandas_wrapper_freq\u001b[0;34m(X, trim)\u001b[0m\n\u001b[1;32m     46\u001b[0m         \u001b[0mindex\u001b[0m \u001b[0;34m=\u001b[0m \u001b[0mX\u001b[0m\u001b[0;34m.\u001b[0m\u001b[0mindex\u001b[0m\u001b[0;34m\u001b[0m\u001b[0;34m\u001b[0m\u001b[0m\n\u001b[1;32m     47\u001b[0m         \u001b[0mfunc\u001b[0m \u001b[0;34m=\u001b[0m \u001b[0m_get_pandas_wrapper\u001b[0m\u001b[0;34m(\u001b[0m\u001b[0mX\u001b[0m\u001b[0;34m,\u001b[0m \u001b[0mtrim\u001b[0m\u001b[0;34m)\u001b[0m\u001b[0;34m\u001b[0m\u001b[0;34m\u001b[0m\u001b[0m\n\u001b[0;32m---> 48\u001b[0;31m         \u001b[0mfreq\u001b[0m \u001b[0;34m=\u001b[0m \u001b[0mindex\u001b[0m\u001b[0;34m.\u001b[0m\u001b[0minferred_freq\u001b[0m\u001b[0;34m\u001b[0m\u001b[0;34m\u001b[0m\u001b[0m\n\u001b[0m\u001b[1;32m     49\u001b[0m         \u001b[0;32mreturn\u001b[0m \u001b[0mfunc\u001b[0m\u001b[0;34m,\u001b[0m \u001b[0mfreq\u001b[0m\u001b[0;34m\u001b[0m\u001b[0;34m\u001b[0m\u001b[0m\n\u001b[1;32m     50\u001b[0m     \u001b[0;32melse\u001b[0m\u001b[0;34m:\u001b[0m\u001b[0;34m\u001b[0m\u001b[0;34m\u001b[0m\u001b[0m\n",
            "\u001b[0;31mAttributeError\u001b[0m: 'Index' object has no attribute 'inferred_freq'"
          ]
        }
      ]
    },
    {
      "cell_type": "code",
      "source": [
        "# adding frequency to dataset\n",
        "time_df.index.freq='MS'"
      ],
      "metadata": {
        "id": "UwTPxZDj0TLU"
      },
      "execution_count": 20,
      "outputs": []
    },
    {
      "cell_type": "code",
      "source": [
        ""
      ],
      "metadata": {
        "id": "2ujwrnQz1gAF"
      },
      "execution_count": 20,
      "outputs": []
    },
    {
      "cell_type": "code",
      "source": [
        "# Lets try again and see the decomposition of time series\n",
        "results = seasonal_decompose(time_df['Open'] ,model='additive',freq=12)\n",
        "results.plot();"
      ],
      "metadata": {
        "colab": {
          "base_uri": "https://localhost:8080/",
          "height": 298
        },
        "id": "uzrtkWCi1Pq_",
        "outputId": "93e8b9f5-a65d-4c3b-e051-39545f9ac134"
      },
      "execution_count": 21,
      "outputs": [
        {
          "output_type": "display_data",
          "data": {
            "text/plain": [
              "<Figure size 432x288 with 4 Axes>"
            ],
            "image/png": "[encoded data removed]"
          },
          "metadata": {
            "needs_background": "light"
          }
        }
      ]
    },
    {
      "cell_type": "code",
      "source": [
        "# We can see that the stock price is having a flat trend with seasonal component"
      ],
      "metadata": {
        "id": "-IMYoYA714qp"
      },
      "execution_count": 22,
      "outputs": []
    },
    {
      "cell_type": "code",
      "source": [
        "#Let's select last 65 days data (using last 60 days to train and 5 days to forecast)"
      ],
      "metadata": {
        "id": "L0K2GxIZtj8F"
      },
      "execution_count": 23,
      "outputs": []
    },
    {
      "cell_type": "code",
      "source": [
        "last_65_df = time_df.tail(65)"
      ],
      "metadata": {
        "id": "vSlTQ4o-us8H"
      },
      "execution_count": 24,
      "outputs": []
    },
    {
      "cell_type": "code",
      "source": [
        "#Visualise time series\n",
        "# Plot\n",
        "\n",
        "plt.plot(last_65_df[\"Open\"], marker='o')\n",
        "\n",
        "# Labelling \n",
        "plt.xlabel(\"Date\")\n",
        "plt.ylabel(\"Price\")\n",
        "plt.title(\"Google Stock Price\")\n",
        "# Display\n",
        "\n",
        "plt.show()"
      ],
      "metadata": {
        "colab": {
          "base_uri": "https://localhost:8080/",
          "height": 295
        },
        "id": "abMttxUquxgv",
        "outputId": "f29c3d09-0692-4629-f6db-cbc3b290d35d"
      },
      "execution_count": 25,
      "outputs": [
        {
          "output_type": "display_data",
          "data": {
            "text/plain": [
              "<Figure size 432x288 with 1 Axes>"
            ],
            "image/png": "[encoded data removed]"
          },
          "metadata": {
            "needs_background": "light"
          }
        }
      ]
    },
    {
      "cell_type": "code",
      "source": [
        "#Transforming data into one scale\n",
        "from sklearn.preprocessing import MinMaxScaler\n",
        "Ms = MinMaxScaler()\n",
        "\n",
        "last_65_df [ last_65_df.columns] = Ms.fit_transform(last_65_df)"
      ],
      "metadata": {
        "colab": {
          "base_uri": "https://localhost:8080/"
        },
        "id": "SgxwntvQvbfl",
        "outputId": "6c0557b9-fab0-45a5-c739-4179849f5d45"
      },
      "execution_count": 26,
      "outputs": [
        {
          "output_type": "stream",
          "name": "stderr",
          "text": [
            "/usr/local/lib/python3.7/dist-packages/pandas/core/frame.py:3678: SettingWithCopyWarning: \n",
            "A value is trying to be set on a copy of a slice from a DataFrame.\n",
            "Try using .loc[row_indexer,col_indexer] = value instead\n",
            "\n",
            "See the caveats in the documentation: https://pandas.pydata.org/pandas-docs/stable/user_guide/indexing.html#returning-a-view-versus-a-copy\n",
            "  self[col] = igetitem(value, i)\n"
          ]
        }
      ]
    },
    {
      "cell_type": "code",
      "source": [
        "#This transform brings the mean to 0 and standard deviation 1"
      ],
      "metadata": {
        "id": "767bBTZDwzAn"
      },
      "execution_count": 27,
      "outputs": []
    },
    {
      "cell_type": "code",
      "source": [
        "train_data = last_65_df [:60]\n",
        "test_data  = last_65_df [60:]"
      ],
      "metadata": {
        "id": "uxIrhi6qw9R-"
      },
      "execution_count": 28,
      "outputs": []
    },
    {
      "cell_type": "code",
      "source": [
        "# We want data and labels for LSTM model input\n",
        "def create_sequence(dataset):\n",
        "  sequences = []\n",
        "  labels = []\n",
        "\n",
        "  start_idx = 0\n",
        "\n",
        "  for stop_idx in range(2,len(dataset)): # Selecting 50 rows at a time\n",
        "    sequences.append(dataset.iloc[start_idx:stop_idx])\n",
        "    labels.append(dataset.iloc[stop_idx])\n",
        "    start_idx += 1\n",
        "  return (np.array(sequences),np.array(labels))"
      ],
      "metadata": {
        "id": "vhCBmhUD3BhY"
      },
      "execution_count": 29,
      "outputs": []
    },
    {
      "cell_type": "code",
      "source": [
        "train_seq, train_label = create_sequence(train_data)\n",
        "test_seq, test_label = create_sequence(test_data)"
      ],
      "metadata": {
        "id": "R_FIVJfpxNMH"
      },
      "execution_count": 30,
      "outputs": []
    },
    {
      "cell_type": "code",
      "source": [
        "test_seq"
      ],
      "metadata": {
        "colab": {
          "base_uri": "https://localhost:8080/"
        },
        "id": "cHrJiQIV4tIW",
        "outputId": "be1d1cfc-a43f-4ddc-d099-3974f82bbe89"
      },
      "execution_count": 31,
      "outputs": [
        {
          "output_type": "execute_result",
          "data": {
            "text/plain": [
              "array([[[0.2364503 ],\n",
              "        [0.28361764]],\n",
              "\n",
              "       [[0.28361764],\n",
              "        [0.30322164]],\n",
              "\n",
              "       [[0.30322164],\n",
              "        [0.27461269]]])"
            ]
          },
          "metadata": {},
          "execution_count": 31
        }
      ]
    },
    {
      "cell_type": "code",
      "source": [
        "#Let's checkout the labels,as we can see due to standardization the entire dataset is suqished between 0&1 with mean centered at 0 \n",
        "train_label"
      ],
      "metadata": {
        "colab": {
          "base_uri": "https://localhost:8080/"
        },
        "id": "dqOMRSe2xVXu",
        "outputId": "5c5a2c53-6cc4-4c96-bf00-c53df7fc21c0"
      },
      "execution_count": 32,
      "outputs": [
        {
          "output_type": "execute_result",
          "data": {
            "text/plain": [
              "array([[0.68798272],\n",
              "       [0.75429651],\n",
              "       [0.66473232],\n",
              "       [0.59072084],\n",
              "       [0.67589359],\n",
              "       [0.73656134],\n",
              "       [0.75127742],\n",
              "       [0.82873939],\n",
              "       [0.81965627],\n",
              "       [0.88862317],\n",
              "       [0.89212566],\n",
              "       [0.95698894],\n",
              "       [0.92903345],\n",
              "       [0.99375282],\n",
              "       [0.98615946],\n",
              "       [0.9751421 ],\n",
              "       [0.91140293],\n",
              "       [0.93269293],\n",
              "       [1.        ],\n",
              "       [0.88922431],\n",
              "       [0.82274077],\n",
              "       [0.8131216 ],\n",
              "       [0.72555706],\n",
              "       [0.71310194],\n",
              "       [0.61385349],\n",
              "       [0.66673197],\n",
              "       [0.5820557 ],\n",
              "       [0.59949031],\n",
              "       [0.68331688],\n",
              "       [0.63276478],\n",
              "       [0.51906157],\n",
              "       [0.37345623],\n",
              "       [0.46024957],\n",
              "       [0.24128589],\n",
              "       [0.31295823],\n",
              "       [0.32506045],\n",
              "       [0.2290921 ],\n",
              "       [0.3038097 ],\n",
              "       [0.33618246],\n",
              "       [0.39413169],\n",
              "       [0.2712407 ],\n",
              "       [0.21333072],\n",
              "       [0.28487225],\n",
              "       [0.22396902],\n",
              "       [0.17763829],\n",
              "       [0.25363634],\n",
              "       [0.26771204],\n",
              "       [0.31589883],\n",
              "       [0.26388282],\n",
              "       [0.17510292],\n",
              "       [0.18149368],\n",
              "       [0.12970006],\n",
              "       [0.03229427],\n",
              "       [0.        ],\n",
              "       [0.02374688],\n",
              "       [0.12145324],\n",
              "       [0.2074626 ],\n",
              "       [0.25588423]])"
            ]
          },
          "metadata": {},
          "execution_count": 32
        }
      ]
    },
    {
      "cell_type": "code",
      "source": [
        "from keras.models import Sequential\n",
        "from keras.layers import Dense, Dropout, LSTM, Bidirectional"
      ],
      "metadata": {
        "id": "VNb7mEIk3UWM"
      },
      "execution_count": 33,
      "outputs": []
    },
    {
      "cell_type": "code",
      "source": [
        "model = Sequential()\n",
        "model.add(LSTM(units=2, return_sequences=True, input_shape = (train_seq.shape[1], train_seq.shape[2])))\n",
        "\n",
        "model.add(Dropout(0.1)) \n",
        "model.add(LSTM(units=2))\n",
        "\n",
        "model.add(Dense(2))\n",
        "\n",
        "model.compile(loss='mean_squared_error', optimizer='adam', metrics=['mean_absolute_error'])\n",
        "\n",
        "model.summary()"
      ],
      "metadata": {
        "colab": {
          "base_uri": "https://localhost:8080/"
        },
        "id": "IkSpIqiy4NJM",
        "outputId": "b320ae66-1944-4163-f5f2-eb3d316e5506"
      },
      "execution_count": 34,
      "outputs": [
        {
          "output_type": "stream",
          "name": "stdout",
          "text": [
            "Model: \"sequential\"\n",
            "_________________________________________________________________\n",
            " Layer (type)                Output Shape              Param #   \n",
            "=================================================================\n",
            " lstm (LSTM)                 (None, 2, 2)              32        \n",
            "                                                                 \n",
            " dropout (Dropout)           (None, 2, 2)              0         \n",
            "                                                                 \n",
            " lstm_1 (LSTM)               (None, 2)                 40        \n",
            "                                                                 \n",
            " dense (Dense)               (None, 2)                 6         \n",
            "                                                                 \n",
            "=================================================================\n",
            "Total params: 78\n",
            "Trainable params: 78\n",
            "Non-trainable params: 0\n",
            "_________________________________________________________________\n"
          ]
        }
      ]
    },
    {
      "cell_type": "code",
      "source": [
        "model.fit(train_seq, train_label, epochs=80,validation_data=(test_seq, test_label), verbose=1)"
      ],
      "metadata": {
        "colab": {
          "base_uri": "https://localhost:8080/"
        },
        "id": "H8-s9ExU4O9W",
        "outputId": "bad1727f-8391-45c3-b2ee-b4a79be041ea"
      },
      "execution_count": 35,
      "outputs": [
        {
          "output_type": "stream",
          "name": "stdout",
          "text": [
            "Epoch 1/80\n",
            "2/2 [==============================] - 6s 1s/step - loss: 0.3339 - mean_absolute_error: 0.4995 - val_loss: 0.0779 - val_mean_absolute_error: 0.2771\n",
            "Epoch 2/80\n",
            "2/2 [==============================] - 0s 39ms/step - loss: 0.3320 - mean_absolute_error: 0.4975 - val_loss: 0.0760 - val_mean_absolute_error: 0.2737\n",
            "Epoch 3/80\n",
            "2/2 [==============================] - 0s 43ms/step - loss: 0.3256 - mean_absolute_error: 0.4915 - val_loss: 0.0742 - val_mean_absolute_error: 0.2704\n",
            "Epoch 4/80\n",
            "2/2 [==============================] - 0s 37ms/step - loss: 0.3224 - mean_absolute_error: 0.4875 - val_loss: 0.0723 - val_mean_absolute_error: 0.2670\n",
            "Epoch 5/80\n",
            "2/2 [==============================] - 0s 33ms/step - loss: 0.3144 - mean_absolute_error: 0.4819 - val_loss: 0.0705 - val_mean_absolute_error: 0.2637\n",
            "Epoch 6/80\n",
            "2/2 [==============================] - 0s 37ms/step - loss: 0.3117 - mean_absolute_error: 0.4787 - val_loss: 0.0687 - val_mean_absolute_error: 0.2603\n",
            "Epoch 7/80\n",
            "2/2 [==============================] - 0s 31ms/step - loss: 0.3083 - mean_absolute_error: 0.4755 - val_loss: 0.0670 - val_mean_absolute_error: 0.2570\n",
            "Epoch 8/80\n",
            "2/2 [==============================] - 0s 35ms/step - loss: 0.3034 - mean_absolute_error: 0.4714 - val_loss: 0.0652 - val_mean_absolute_error: 0.2536\n",
            "Epoch 9/80\n",
            "2/2 [==============================] - 0s 38ms/step - loss: 0.3099 - mean_absolute_error: 0.4745 - val_loss: 0.0635 - val_mean_absolute_error: 0.2503\n",
            "Epoch 10/80\n",
            "2/2 [==============================] - 0s 34ms/step - loss: 0.2982 - mean_absolute_error: 0.4651 - val_loss: 0.0618 - val_mean_absolute_error: 0.2469\n",
            "Epoch 11/80\n",
            "2/2 [==============================] - 0s 31ms/step - loss: 0.2958 - mean_absolute_error: 0.4630 - val_loss: 0.0602 - val_mean_absolute_error: 0.2436\n",
            "Epoch 12/80\n",
            "2/2 [==============================] - 0s 37ms/step - loss: 0.2883 - mean_absolute_error: 0.4577 - val_loss: 0.0585 - val_mean_absolute_error: 0.2402\n",
            "Epoch 13/80\n",
            "2/2 [==============================] - 0s 37ms/step - loss: 0.2886 - mean_absolute_error: 0.4570 - val_loss: 0.0569 - val_mean_absolute_error: 0.2368\n",
            "Epoch 14/80\n",
            "2/2 [==============================] - 0s 39ms/step - loss: 0.2859 - mean_absolute_error: 0.4543 - val_loss: 0.0553 - val_mean_absolute_error: 0.2335\n",
            "Epoch 15/80\n",
            "2/2 [==============================] - 0s 32ms/step - loss: 0.2811 - mean_absolute_error: 0.4492 - val_loss: 0.0537 - val_mean_absolute_error: 0.2301\n",
            "Epoch 16/80\n",
            "2/2 [==============================] - 0s 31ms/step - loss: 0.2776 - mean_absolute_error: 0.4474 - val_loss: 0.0522 - val_mean_absolute_error: 0.2267\n",
            "Epoch 17/80\n",
            "2/2 [==============================] - 0s 31ms/step - loss: 0.2720 - mean_absolute_error: 0.4419 - val_loss: 0.0506 - val_mean_absolute_error: 0.2234\n",
            "Epoch 18/80\n",
            "2/2 [==============================] - 0s 34ms/step - loss: 0.2751 - mean_absolute_error: 0.4427 - val_loss: 0.0491 - val_mean_absolute_error: 0.2200\n",
            "Epoch 19/80\n",
            "2/2 [==============================] - 0s 36ms/step - loss: 0.2678 - mean_absolute_error: 0.4367 - val_loss: 0.0476 - val_mean_absolute_error: 0.2166\n",
            "Epoch 20/80\n",
            "2/2 [==============================] - 0s 40ms/step - loss: 0.2626 - mean_absolute_error: 0.4328 - val_loss: 0.0461 - val_mean_absolute_error: 0.2132\n",
            "Epoch 21/80\n",
            "2/2 [==============================] - 0s 40ms/step - loss: 0.2569 - mean_absolute_error: 0.4261 - val_loss: 0.0447 - val_mean_absolute_error: 0.2098\n",
            "Epoch 22/80\n",
            "2/2 [==============================] - 0s 53ms/step - loss: 0.2555 - mean_absolute_error: 0.4253 - val_loss: 0.0432 - val_mean_absolute_error: 0.2064\n",
            "Epoch 23/80\n",
            "2/2 [==============================] - 0s 38ms/step - loss: 0.2497 - mean_absolute_error: 0.4201 - val_loss: 0.0418 - val_mean_absolute_error: 0.2029\n",
            "Epoch 24/80\n",
            "2/2 [==============================] - 0s 34ms/step - loss: 0.2504 - mean_absolute_error: 0.4186 - val_loss: 0.0404 - val_mean_absolute_error: 0.1995\n",
            "Epoch 25/80\n",
            "2/2 [==============================] - 0s 32ms/step - loss: 0.2439 - mean_absolute_error: 0.4135 - val_loss: 0.0391 - val_mean_absolute_error: 0.1961\n",
            "Epoch 26/80\n",
            "2/2 [==============================] - 0s 32ms/step - loss: 0.2450 - mean_absolute_error: 0.4122 - val_loss: 0.0377 - val_mean_absolute_error: 0.1926\n",
            "Epoch 27/80\n",
            "2/2 [==============================] - 0s 39ms/step - loss: 0.2411 - mean_absolute_error: 0.4097 - val_loss: 0.0364 - val_mean_absolute_error: 0.1892\n",
            "Epoch 28/80\n",
            "2/2 [==============================] - 0s 34ms/step - loss: 0.2366 - mean_absolute_error: 0.4045 - val_loss: 0.0351 - val_mean_absolute_error: 0.1857\n",
            "Epoch 29/80\n",
            "2/2 [==============================] - 0s 38ms/step - loss: 0.2355 - mean_absolute_error: 0.4036 - val_loss: 0.0338 - val_mean_absolute_error: 0.1823\n",
            "Epoch 30/80\n",
            "2/2 [==============================] - 0s 45ms/step - loss: 0.2331 - mean_absolute_error: 0.3996 - val_loss: 0.0326 - val_mean_absolute_error: 0.1788\n",
            "Epoch 31/80\n",
            "2/2 [==============================] - 0s 40ms/step - loss: 0.2269 - mean_absolute_error: 0.3950 - val_loss: 0.0314 - val_mean_absolute_error: 0.1754\n",
            "Epoch 32/80\n",
            "2/2 [==============================] - 0s 35ms/step - loss: 0.2249 - mean_absolute_error: 0.3914 - val_loss: 0.0302 - val_mean_absolute_error: 0.1720\n",
            "Epoch 33/80\n",
            "2/2 [==============================] - 0s 35ms/step - loss: 0.2223 - mean_absolute_error: 0.3881 - val_loss: 0.0290 - val_mean_absolute_error: 0.1685\n",
            "Epoch 34/80\n",
            "2/2 [==============================] - 0s 44ms/step - loss: 0.2173 - mean_absolute_error: 0.3832 - val_loss: 0.0278 - val_mean_absolute_error: 0.1651\n",
            "Epoch 35/80\n",
            "2/2 [==============================] - 0s 37ms/step - loss: 0.2194 - mean_absolute_error: 0.3842 - val_loss: 0.0267 - val_mean_absolute_error: 0.1616\n",
            "Epoch 36/80\n",
            "2/2 [==============================] - 0s 59ms/step - loss: 0.2164 - mean_absolute_error: 0.3803 - val_loss: 0.0256 - val_mean_absolute_error: 0.1581\n",
            "Epoch 37/80\n",
            "2/2 [==============================] - 0s 31ms/step - loss: 0.2120 - mean_absolute_error: 0.3766 - val_loss: 0.0245 - val_mean_absolute_error: 0.1547\n",
            "Epoch 38/80\n",
            "2/2 [==============================] - 0s 38ms/step - loss: 0.2061 - mean_absolute_error: 0.3695 - val_loss: 0.0234 - val_mean_absolute_error: 0.1512\n",
            "Epoch 39/80\n",
            "2/2 [==============================] - 0s 43ms/step - loss: 0.2041 - mean_absolute_error: 0.3668 - val_loss: 0.0224 - val_mean_absolute_error: 0.1477\n",
            "Epoch 40/80\n",
            "2/2 [==============================] - 0s 44ms/step - loss: 0.1998 - mean_absolute_error: 0.3625 - val_loss: 0.0214 - val_mean_absolute_error: 0.1443\n",
            "Epoch 41/80\n",
            "2/2 [==============================] - 0s 41ms/step - loss: 0.2021 - mean_absolute_error: 0.3651 - val_loss: 0.0204 - val_mean_absolute_error: 0.1408\n",
            "Epoch 42/80\n",
            "2/2 [==============================] - 0s 37ms/step - loss: 0.1925 - mean_absolute_error: 0.3551 - val_loss: 0.0194 - val_mean_absolute_error: 0.1374\n",
            "Epoch 43/80\n",
            "2/2 [==============================] - 0s 31ms/step - loss: 0.2008 - mean_absolute_error: 0.3626 - val_loss: 0.0185 - val_mean_absolute_error: 0.1339\n",
            "Epoch 44/80\n",
            "2/2 [==============================] - 0s 37ms/step - loss: 0.1907 - mean_absolute_error: 0.3531 - val_loss: 0.0176 - val_mean_absolute_error: 0.1305\n",
            "Epoch 45/80\n",
            "2/2 [==============================] - 0s 45ms/step - loss: 0.1910 - mean_absolute_error: 0.3514 - val_loss: 0.0167 - val_mean_absolute_error: 0.1270\n",
            "Epoch 46/80\n",
            "2/2 [==============================] - 0s 38ms/step - loss: 0.1872 - mean_absolute_error: 0.3478 - val_loss: 0.0158 - val_mean_absolute_error: 0.1236\n",
            "Epoch 47/80\n",
            "2/2 [==============================] - 0s 31ms/step - loss: 0.1855 - mean_absolute_error: 0.3448 - val_loss: 0.0150 - val_mean_absolute_error: 0.1201\n",
            "Epoch 48/80\n",
            "2/2 [==============================] - 0s 43ms/step - loss: 0.1747 - mean_absolute_error: 0.3346 - val_loss: 0.0141 - val_mean_absolute_error: 0.1166\n",
            "Epoch 49/80\n",
            "2/2 [==============================] - 0s 37ms/step - loss: 0.1763 - mean_absolute_error: 0.3366 - val_loss: 0.0133 - val_mean_absolute_error: 0.1132\n",
            "Epoch 50/80\n",
            "2/2 [==============================] - 0s 38ms/step - loss: 0.1739 - mean_absolute_error: 0.3340 - val_loss: 0.0126 - val_mean_absolute_error: 0.1097\n",
            "Epoch 51/80\n",
            "2/2 [==============================] - 0s 33ms/step - loss: 0.1698 - mean_absolute_error: 0.3280 - val_loss: 0.0118 - val_mean_absolute_error: 0.1062\n",
            "Epoch 52/80\n",
            "2/2 [==============================] - 0s 34ms/step - loss: 0.1622 - mean_absolute_error: 0.3202 - val_loss: 0.0111 - val_mean_absolute_error: 0.1028\n",
            "Epoch 53/80\n",
            "2/2 [==============================] - 0s 44ms/step - loss: 0.1707 - mean_absolute_error: 0.3279 - val_loss: 0.0104 - val_mean_absolute_error: 0.0993\n",
            "Epoch 54/80\n",
            "2/2 [==============================] - 0s 37ms/step - loss: 0.1617 - mean_absolute_error: 0.3184 - val_loss: 0.0097 - val_mean_absolute_error: 0.0958\n",
            "Epoch 55/80\n",
            "2/2 [==============================] - 0s 39ms/step - loss: 0.1633 - mean_absolute_error: 0.3179 - val_loss: 0.0090 - val_mean_absolute_error: 0.0923\n",
            "Epoch 56/80\n",
            "2/2 [==============================] - 0s 47ms/step - loss: 0.1545 - mean_absolute_error: 0.3121 - val_loss: 0.0084 - val_mean_absolute_error: 0.0888\n",
            "Epoch 57/80\n",
            "2/2 [==============================] - 0s 35ms/step - loss: 0.1612 - mean_absolute_error: 0.3153 - val_loss: 0.0078 - val_mean_absolute_error: 0.0854\n",
            "Epoch 58/80\n",
            "2/2 [==============================] - 0s 46ms/step - loss: 0.1502 - mean_absolute_error: 0.3064 - val_loss: 0.0072 - val_mean_absolute_error: 0.0819\n",
            "Epoch 59/80\n",
            "2/2 [==============================] - 0s 38ms/step - loss: 0.1598 - mean_absolute_error: 0.3173 - val_loss: 0.0067 - val_mean_absolute_error: 0.0785\n",
            "Epoch 60/80\n",
            "2/2 [==============================] - 0s 40ms/step - loss: 0.1483 - mean_absolute_error: 0.3024 - val_loss: 0.0061 - val_mean_absolute_error: 0.0750\n",
            "Epoch 61/80\n",
            "2/2 [==============================] - 0s 37ms/step - loss: 0.1471 - mean_absolute_error: 0.3019 - val_loss: 0.0056 - val_mean_absolute_error: 0.0716\n",
            "Epoch 62/80\n",
            "2/2 [==============================] - 0s 34ms/step - loss: 0.1477 - mean_absolute_error: 0.3049 - val_loss: 0.0051 - val_mean_absolute_error: 0.0681\n",
            "Epoch 63/80\n",
            "2/2 [==============================] - 0s 31ms/step - loss: 0.1439 - mean_absolute_error: 0.2986 - val_loss: 0.0047 - val_mean_absolute_error: 0.0647\n",
            "Epoch 64/80\n",
            "2/2 [==============================] - 0s 38ms/step - loss: 0.1409 - mean_absolute_error: 0.2927 - val_loss: 0.0043 - val_mean_absolute_error: 0.0613\n",
            "Epoch 65/80\n",
            "2/2 [==============================] - 0s 45ms/step - loss: 0.1404 - mean_absolute_error: 0.2944 - val_loss: 0.0038 - val_mean_absolute_error: 0.0578\n",
            "Epoch 66/80\n",
            "2/2 [==============================] - 0s 38ms/step - loss: 0.1394 - mean_absolute_error: 0.2902 - val_loss: 0.0035 - val_mean_absolute_error: 0.0544\n",
            "Epoch 67/80\n",
            "2/2 [==============================] - 0s 38ms/step - loss: 0.1343 - mean_absolute_error: 0.2857 - val_loss: 0.0031 - val_mean_absolute_error: 0.0510\n",
            "Epoch 68/80\n",
            "2/2 [==============================] - 0s 41ms/step - loss: 0.1330 - mean_absolute_error: 0.2861 - val_loss: 0.0028 - val_mean_absolute_error: 0.0476\n",
            "Epoch 69/80\n",
            "2/2 [==============================] - 0s 42ms/step - loss: 0.1266 - mean_absolute_error: 0.2787 - val_loss: 0.0024 - val_mean_absolute_error: 0.0442\n",
            "Epoch 70/80\n",
            "2/2 [==============================] - 0s 33ms/step - loss: 0.1304 - mean_absolute_error: 0.2805 - val_loss: 0.0021 - val_mean_absolute_error: 0.0408\n",
            "Epoch 71/80\n",
            "2/2 [==============================] - 0s 32ms/step - loss: 0.1217 - mean_absolute_error: 0.2743 - val_loss: 0.0019 - val_mean_absolute_error: 0.0378\n",
            "Epoch 72/80\n",
            "2/2 [==============================] - 0s 33ms/step - loss: 0.1285 - mean_absolute_error: 0.2822 - val_loss: 0.0016 - val_mean_absolute_error: 0.0355\n",
            "Epoch 73/80\n",
            "2/2 [==============================] - 0s 38ms/step - loss: 0.1193 - mean_absolute_error: 0.2712 - val_loss: 0.0014 - val_mean_absolute_error: 0.0332\n",
            "Epoch 74/80\n",
            "2/2 [==============================] - 0s 31ms/step - loss: 0.1170 - mean_absolute_error: 0.2683 - val_loss: 0.0012 - val_mean_absolute_error: 0.0309\n",
            "Epoch 75/80\n",
            "2/2 [==============================] - 0s 54ms/step - loss: 0.1124 - mean_absolute_error: 0.2613 - val_loss: 0.0010 - val_mean_absolute_error: 0.0286\n",
            "Epoch 76/80\n",
            "2/2 [==============================] - 0s 40ms/step - loss: 0.1166 - mean_absolute_error: 0.2677 - val_loss: 8.7131e-04 - val_mean_absolute_error: 0.0263\n",
            "Epoch 77/80\n",
            "2/2 [==============================] - 0s 44ms/step - loss: 0.1164 - mean_absolute_error: 0.2681 - val_loss: 7.3954e-04 - val_mean_absolute_error: 0.0241\n",
            "Epoch 78/80\n",
            "2/2 [==============================] - 0s 34ms/step - loss: 0.1116 - mean_absolute_error: 0.2618 - val_loss: 6.2922e-04 - val_mean_absolute_error: 0.0218\n",
            "Epoch 79/80\n",
            "2/2 [==============================] - 0s 34ms/step - loss: 0.1101 - mean_absolute_error: 0.2598 - val_loss: 5.4085e-04 - val_mean_absolute_error: 0.0196\n",
            "Epoch 80/80\n",
            "2/2 [==============================] - 0s 34ms/step - loss: 0.1105 - mean_absolute_error: 0.2652 - val_loss: 4.7281e-04 - val_mean_absolute_error: 0.0176\n"
          ]
        },
        {
          "output_type": "execute_result",
          "data": {
            "text/plain": [
              "<keras.callbacks.History at 0x7f95ef976d90>"
            ]
          },
          "metadata": {},
          "execution_count": 35
        }
      ]
    },
    {
      "cell_type": "code",
      "source": [
        "# mean_absolute error = 0.0176 we are getting this much low error as the dataset is small and we are overfitting"
      ],
      "metadata": {
        "id": "ipSuqw-L7cVG"
      },
      "execution_count": null,
      "outputs": []
    },
    {
      "cell_type": "code",
      "source": [
        "test_seq"
      ],
      "metadata": {
        "colab": {
          "base_uri": "https://localhost:8080/"
        },
        "id": "YK-LAZQ14mAi",
        "outputId": "a9dd4fc8-f4b8-44c4-952e-48016773e769"
      },
      "execution_count": 36,
      "outputs": [
        {
          "output_type": "execute_result",
          "data": {
            "text/plain": [
              "array([[[0.2364503 ],\n",
              "        [0.28361764]],\n",
              "\n",
              "       [[0.28361764],\n",
              "        [0.30322164]],\n",
              "\n",
              "       [[0.30322164],\n",
              "        [0.27461269]]])"
            ]
          },
          "metadata": {},
          "execution_count": 36
        }
      ]
    },
    {
      "cell_type": "code",
      "source": [
        "test_predicted = model.predict(test_seq)"
      ],
      "metadata": {
        "id": "CQZrnvRj4Ug9"
      },
      "execution_count": 37,
      "outputs": []
    },
    {
      "cell_type": "code",
      "source": [
        "#here we are going back from standard form to actual form\n",
        "test_inverse_predicted = Ms.inverse_transform(test_predicted)"
      ],
      "metadata": {
        "id": "K5aNKmSk4b7q"
      },
      "execution_count": 38,
      "outputs": []
    },
    {
      "cell_type": "code",
      "source": [
        "test_inverse_predicted.flatten()[:5]"
      ],
      "metadata": {
        "colab": {
          "base_uri": "https://localhost:8080/"
        },
        "id": "PrtAAoyF5b50",
        "outputId": "1f128b60-0def-444f-a315-801711bc975f"
      },
      "execution_count": 55,
      "outputs": [
        {
          "output_type": "execute_result",
          "data": {
            "text/plain": [
              "array([2312.078 , 2326.2117, 2313.5354, 2334.8533, 2313.4497],\n",
              "      dtype=float32)"
            ]
          },
          "metadata": {},
          "execution_count": 55
        }
      ]
    },
    {
      "cell_type": "code",
      "source": [
        ""
      ],
      "metadata": {
        "id": "8_yW_gun54u1"
      },
      "execution_count": 48,
      "outputs": []
    },
    {
      "cell_type": "code",
      "source": [
        "concat_df = pd.concat([time_df.iloc[len(time_df)-5:].copy(),pd.DataFrame(test_inverse_predicted.flatten()[:5],columns=['open_predicted'],index=last_65_df.iloc[-5:].index)], axis=1)"
      ],
      "metadata": {
        "id": "VN7O-GUI6YVd"
      },
      "execution_count": 69,
      "outputs": []
    },
    {
      "cell_type": "markdown",
      "source": [
        "# 5 days forward Prediction"
      ],
      "metadata": {
        "id": "sB7wJyG1_bAl"
      }
    },
    {
      "cell_type": "code",
      "source": [
        "concat_df"
      ],
      "metadata": {
        "colab": {
          "base_uri": "https://localhost:8080/",
          "height": 237
        },
        "id": "kbVscKmV8Wo1",
        "outputId": "d6a26859-74c3-42be-80f7-7bc8be429169"
      },
      "execution_count": 71,
      "outputs": [
        {
          "output_type": "execute_result",
          "data": {
            "text/plain": [
              "                   Open  open_predicted\n",
              "Date                                   \n",
              "2022-06-02  2283.760010     2312.077881\n",
              "2022-06-03  2319.850098     2326.211670\n",
              "2022-06-06  2334.850098     2313.535400\n",
              "2022-06-07  2312.959961     2334.853271\n",
              "2022-06-08  2337.530029     2313.449707"
            ],
            "text/html": [
              "\n",
              "  <div id=\"df-13fa9673-3c8f-4848-b35f-1053658b41e5\">\n",
              "    <div class=\"colab-df-container\">\n",
              "      <div>\n",
              "<style scoped>\n",
              "    .dataframe tbody tr th:only-of-type {\n",
              "        vertical-align: middle;\n",
              "    }\n",
              "\n",
              "    .dataframe tbody tr th {\n",
              "        vertical-align: top;\n",
              "    }\n",
              "\n",
              "    .dataframe thead th {\n",
              "        text-align: right;\n",
              "    }\n",
              "</style>\n",
              "<table border=\"1\" class=\"dataframe\">\n",
              "  <thead>\n",
              "    <tr style=\"text-align: right;\">\n",
              "      <th></th>\n",
              "      <th>Open</th>\n",
              "      <th>open_predicted</th>\n",
              "    </tr>\n",
              "    <tr>\n",
              "      <th>Date</th>\n",
              "      <th></th>\n",
              "      <th></th>\n",
              "    </tr>\n",
              "  </thead>\n",
              "  <tbody>\n",
              "    <tr>\n",
              "      <th>2022-06-02</th>\n",
              "      <td>2283.760010</td>\n",
              "      <td>2312.077881</td>\n",
              "    </tr>\n",
              "    <tr>\n",
              "      <th>2022-06-03</th>\n",
              "      <td>2319.850098</td>\n",
              "      <td>2326.211670</td>\n",
              "    </tr>\n",
              "    <tr>\n",
              "      <th>2022-06-06</th>\n",
              "      <td>2334.850098</td>\n",
              "      <td>2313.535400</td>\n",
              "    </tr>\n",
              "    <tr>\n",
              "      <th>2022-06-07</th>\n",
              "      <td>2312.959961</td>\n",
              "      <td>2334.853271</td>\n",
              "    </tr>\n",
              "    <tr>\n",
              "      <th>2022-06-08</th>\n",
              "      <td>2337.530029</td>\n",
              "      <td>2313.449707</td>\n",
              "    </tr>\n",
              "  </tbody>\n",
              "</table>\n",
              "</div>\n",
              "      <button class=\"colab-df-convert\" onclick=\"convertToInteractive('df-13fa9673-3c8f-4848-b35f-1053658b41e5')\"\n",
              "              title=\"Convert this dataframe to an interactive table.\"\n",
              "              style=\"display:none;\">\n",
              "        \n",
              "  <svg xmlns=\"http://www.w3.org/2000/svg\" height=\"24px\"viewBox=\"0 0 24 24\"\n",
              "       width=\"24px\">\n",
              "    <path d=\"M0 0h24v24H0V0z\" fill=\"none\"/>\n",
              "    <path d=\"M18.56 5.44l.94 2.06.94-2.06 2.06-.94-2.06-.94-.94-2.06-.94 2.06-2.06.94zm-11 1L8.5 8.5l.94-2.06 2.06-.94-2.06-.94L8.5 2.5l-.94 2.06-2.06.94zm10 10l.94 2.06.94-2.06 2.06-.94-2.06-.94-.94-2.06-.94 2.06-2.06.94z\"/><path d=\"M17.41 7.96l-1.37-1.37c-.4-.4-.92-.59-1.43-.59-.52 0-1.04.2-1.43.59L10.3 9.45l-7.72 7.72c-.78.78-.78 2.05 0 2.83L4 21.41c.39.39.9.59 1.41.59.51 0 1.02-.2 1.41-.59l7.78-7.78 2.81-2.81c.8-.78.8-2.07 0-2.86zM5.41 20L4 18.59l7.72-7.72 1.47 1.35L5.41 20z\"/>\n",
              "  </svg>\n",
              "      </button>\n",
              "      \n",
              "  <style>\n",
              "    .colab-df-container {\n",
              "      display:flex;\n",
              "      flex-wrap:wrap;\n",
              "      gap: 12px;\n",
              "    }\n",
              "\n",
              "    .colab-df-convert {\n",
              "      background-color: #E8F0FE;\n",
              "      border: none;\n",
              "      border-radius: 50%;\n",
              "      cursor: pointer;\n",
              "      display: none;\n",
              "      fill: #1967D2;\n",
              "      height: 32px;\n",
              "      padding: 0 0 0 0;\n",
              "      width: 32px;\n",
              "    }\n",
              "\n",
              "    .colab-df-convert:hover {\n",
              "      background-color: #E2EBFA;\n",
              "      box-shadow: 0px 1px 2px rgba(60, 64, 67, 0.3), 0px 1px 3px 1px rgba(60, 64, 67, 0.15);\n",
              "      fill: #174EA6;\n",
              "    }\n",
              "\n",
              "    [theme=dark] .colab-df-convert {\n",
              "      background-color: #3B4455;\n",
              "      fill: #D2E3FC;\n",
              "    }\n",
              "\n",
              "    [theme=dark] .colab-df-convert:hover {\n",
              "      background-color: #434B5C;\n",
              "      box-shadow: 0px 1px 3px 1px rgba(0, 0, 0, 0.15);\n",
              "      filter: drop-shadow(0px 1px 2px rgba(0, 0, 0, 0.3));\n",
              "      fill: #FFFFFF;\n",
              "    }\n",
              "  </style>\n",
              "\n",
              "      <script>\n",
              "        const buttonEl =\n",
              "          document.querySelector('#df-13fa9673-3c8f-4848-b35f-1053658b41e5 button.colab-df-convert');\n",
              "        buttonEl.style.display =\n",
              "          google.colab.kernel.accessAllowed ? 'block' : 'none';\n",
              "\n",
              "        async function convertToInteractive(key) {\n",
              "          const element = document.querySelector('#df-13fa9673-3c8f-4848-b35f-1053658b41e5');\n",
              "          const dataTable =\n",
              "            await google.colab.kernel.invokeFunction('convertToInteractive',\n",
              "                                                     [key], {});\n",
              "          if (!dataTable) return;\n",
              "\n",
              "          const docLinkHtml = 'Like what you see? Visit the ' +\n",
              "            '<a target=\"_blank\" href=https://colab.research.google.com/notebooks/data_table.ipynb>data table notebook</a>'\n",
              "            + ' to learn more about interactive tables.';\n",
              "          element.innerHTML = '';\n",
              "          dataTable['output_type'] = 'display_data';\n",
              "          await google.colab.output.renderOutput(dataTable, element);\n",
              "          const docLink = document.createElement('div');\n",
              "          docLink.innerHTML = docLinkHtml;\n",
              "          element.appendChild(docLink);\n",
              "        }\n",
              "      </script>\n",
              "    </div>\n",
              "  </div>\n",
              "  "
            ]
          },
          "metadata": {},
          "execution_count": 71
        }
      ]
    },
    {
      "cell_type": "code",
      "source": [
        ""
      ],
      "metadata": {
        "colab": {
          "base_uri": "https://localhost:8080/"
        },
        "id": "pmdAV48O8gRY",
        "outputId": "db869d08-4aa2-4311-fe11-750b42a14270"
      },
      "execution_count": 46,
      "outputs": [
        {
          "output_type": "execute_result",
          "data": {
            "text/plain": [
              "numpy.ndarray"
            ]
          },
          "metadata": {},
          "execution_count": 46
        }
      ]
    },
    {
      "cell_type": "code",
      "source": [
        ""
      ],
      "metadata": {
        "id": "ROrICF8t8odM"
      },
      "execution_count": null,
      "outputs": []
    }
  ]
}